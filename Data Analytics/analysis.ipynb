{
 "metadata": {
  "language_info": {
   "codemirror_mode": {
    "name": "ipython",
    "version": 3
   },
   "file_extension": ".py",
   "mimetype": "text/x-python",
   "name": "python",
   "nbconvert_exporter": "python",
   "pygments_lexer": "ipython3",
   "version": "3.7.5"
  },
  "orig_nbformat": 2,
  "kernelspec": {
   "name": "python375jvsc74a57bd0aee8b7b246df8f9039afb4144a1f6fd8d2ca17a180786b69acc140d282b71a49",
   "display_name": "Python 3.7.5 64-bit"
  },
  "metadata": {
   "interpreter": {
    "hash": "aee8b7b246df8f9039afb4144a1f6fd8d2ca17a180786b69acc140d282b71a49"
   }
  }
 },
 "nbformat": 4,
 "nbformat_minor": 2,
 "cells": [
  {
   "source": [
    "# Data Analysis\n",
    "\n",
    "+ The csv files are generated and stored in the **Version 2** directory\n",
    "+ Files are named after the seed that generated them *(will add the settings into the name too at a later point)*"
   ],
   "cell_type": "markdown",
   "metadata": {}
  },
  {
   "source": [
    "### Libraries:\n",
    "+ Pandas for importing managing the data in dataframes\n",
    "+ Seaborn for visualising the data and generating plots\n",
    "+ *Numpy may also be needed*"
   ],
   "cell_type": "markdown",
   "metadata": {}
  },
  {
   "cell_type": "code",
   "execution_count": 1,
   "metadata": {},
   "outputs": [],
   "source": [
    "import pandas as pd \n",
    "# import numpy as np \n",
    "import seaborn as sns"
   ]
  },
  {
   "source": [
    "### Importing the data\n",
    "\n",
    "+ The ```seed_number``` variable holds the seed to load data from"
   ],
   "cell_type": "markdown",
   "metadata": {}
  },
  {
   "cell_type": "code",
   "execution_count": 12,
   "metadata": {},
   "outputs": [
    {
     "output_type": "stream",
     "name": "stdout",
     "text": [
      "../Version 2/seed-31.csv\n   ID  Money  Carbon  Electricity  Type  Tick\n0   0      0     0.0          0.0   NaN     0\n1   1      0     0.0          0.0   NaN     0\n2   2      0     0.0          0.0   NaN     0\n3   3      0     0.0          0.0   NaN     0\n4   4      0     0.0          0.0   NaN     0\n"
     ]
    }
   ],
   "source": [
    "seed_number = 31\n",
    "\n",
    "filepath = '../Version 2/seed-' + str(seed_number) + '.csv'\n",
    "print(filepath)\n",
    "df = pd.read_csv(filepath)"
   ]
  },
  {
   "cell_type": "code",
   "execution_count": null,
   "metadata": {},
   "outputs": [],
   "source": []
  },
  {
   "cell_type": "code",
   "execution_count": null,
   "metadata": {},
   "outputs": [],
   "source": []
  }
 ]
}