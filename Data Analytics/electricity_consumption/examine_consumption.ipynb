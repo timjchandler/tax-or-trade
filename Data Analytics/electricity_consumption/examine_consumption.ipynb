{
 "metadata": {
  "language_info": {
   "codemirror_mode": {
    "name": "ipython",
    "version": 3
   },
   "file_extension": ".py",
   "mimetype": "text/x-python",
   "name": "python",
   "nbconvert_exporter": "python",
   "pygments_lexer": "ipython3",
   "version": "3.7.5"
  },
  "orig_nbformat": 2,
  "kernelspec": {
   "name": "python375jvsc74a57bd0aee8b7b246df8f9039afb4144a1f6fd8d2ca17a180786b69acc140d282b71a49",
   "display_name": "Python 3.7.5 64-bit"
  },
  "metadata": {
   "interpreter": {
    "hash": "aee8b7b246df8f9039afb4144a1f6fd8d2ca17a180786b69acc140d282b71a49"
   }
  }
 },
 "nbformat": 4,
 "nbformat_minor": 2,
 "cells": [
  {
   "cell_type": "code",
   "execution_count": 77,
   "metadata": {},
   "outputs": [],
   "source": [
    "import pandas as pd\n",
    "import statistics as stats"
   ]
  },
  {
   "source": [
    "### Load in data\n",
    "\n",
    "Source: https://www.eia.gov/international/data/world/electricity/electricity-consumption?pd=2&p=0000002&u=0&f=A&v=mapbubble&a=-&i=none&vo=value&t=C&g=00000000000000000000000000000000000000000000000001&l=249-ruvvvvvfvtvnvv1vrvvvvfvvvvvvfvvvou20evvvvvvvvvvnvvvs0008&s=315532800000&e=1546300800000&\n",
    "\n",
    "Accessed 09.06.21"
   ],
   "cell_type": "markdown",
   "metadata": {}
  },
  {
   "cell_type": "code",
   "execution_count": 68,
   "metadata": {},
   "outputs": [],
   "source": [
    "df = pd.read_csv('data-tidied.csv')\n",
    "world = df.iloc[0]\n",
    "\n",
    "for idx in range(1, len(world)):\n",
    "    world[idx] = float(world[idx])"
   ]
  },
  {
   "cell_type": "code",
   "execution_count": 78,
   "metadata": {},
   "outputs": [
    {
     "output_type": "stream",
     "name": "stdout",
     "text": [
      "Mean:\t\t0.03088716099497185\nSD:\t\t0.014790782994165856\nMinimum:\t-0.0030124530701609586\nMaximum:\t0.07234988552831334\n"
     ]
    }
   ],
   "source": [
    "\n",
    "\n",
    "change = world[1:].pct_change()\n",
    "change = change[1:-2]\n",
    "print(\"Mean:\\t\\t\" + str(change.mean()))\n",
    "print(\"SD:\\t\\t\" + str(stats.stdev(change)))\n",
    "print(\"Minimum:\\t\" + str(change.min()))\n",
    "print(\"Maximum:\\t\" + str(change.max()))\n"
   ]
  },
  {
   "cell_type": "code",
   "execution_count": 74,
   "metadata": {},
   "outputs": [
    {
     "output_type": "execute_result",
     "data": {
      "text/plain": [
       "1981    0.011832\n",
       "1982    0.021396\n",
       "1983    0.039921\n",
       "1984    0.062253\n",
       "1985    0.035582\n",
       "1986    0.026146\n",
       "1987    0.043883\n",
       "1988    0.045236\n",
       "1989    0.044762\n",
       "1990    0.026302\n",
       "1991    0.019732\n",
       "1992    0.006080\n",
       "1993    0.019424\n",
       "1994    0.023014\n",
       "1995    0.032781\n",
       "1996    0.028794\n",
       "1997    0.026649\n",
       "1998    0.025614\n",
       "1999    0.021241\n",
       "2000    0.045237\n",
       "2001    0.019364\n",
       "2002    0.032877\n",
       "2003    0.037641\n",
       "2004    0.045786\n",
       "2005    0.039783\n",
       "2006    0.043206\n",
       "2007    0.047363\n",
       "2008    0.014834\n",
       "2009   -0.003012\n",
       "2010    0.072350\n",
       "2011    0.037135\n",
       "2012    0.020898\n",
       "2013    0.033095\n",
       "2014    0.019479\n",
       "2015    0.020169\n",
       "2016    0.028116\n",
       "2017    0.027862\n",
       "Name: 0, dtype: float64"
      ]
     },
     "metadata": {},
     "execution_count": 74
    }
   ],
   "source": [
    "change"
   ]
  },
  {
   "cell_type": "code",
   "execution_count": null,
   "metadata": {},
   "outputs": [],
   "source": []
  }
 ]
}